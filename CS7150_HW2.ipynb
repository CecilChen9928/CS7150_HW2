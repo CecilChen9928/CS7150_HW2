{
  "nbformat": 4,
  "nbformat_minor": 0,
  "metadata": {
    "colab": {
      "provenance": []
    },
    "kernelspec": {
      "name": "python3",
      "display_name": "Python 3"
    },
    "language_info": {
      "name": "python"
    }
  },
  "cells": [
    {
      "cell_type": "code",
      "source": [
        "import torch\n",
        "from torchvision import datasets, transforms\n",
        "from torch.utils.data import DataLoader\n",
        "import torch.nn as nn\n",
        "import torch.optim as optim\n",
        "\n",
        "# Define a transform to normalize the data\n",
        "transform = transforms.Compose([\n",
        "    transforms.ToTensor(),  # Convert images to PyTorch tensors\n",
        "    transforms.Normalize((0.5,), (0.5,)),  # Normalize the images\n",
        "])\n",
        "\n",
        "# Load the MNIST dataset\n",
        "train_all = datasets.MNIST('../data', train=True, download=True, transform=transform)\n",
        "train_data, val_data = torch.utils.data.random_split(train_all, [50000, 10000], torch.Generator().manual_seed(0))\n",
        "test_data = datasets.MNIST('../data', train=False, download=True, transform=transform)\n",
        "\n",
        "# Create data loaders\n",
        "train_loader = DataLoader(train_data, batch_size=64, shuffle=True)\n",
        "val_loader = DataLoader(val_data, batch_size=64, shuffle=False)\n",
        "test_loader = DataLoader(test_data, batch_size=64, shuffle=False)\n"
      ],
      "metadata": {
        "id": "JgPy3SBD1Ni6",
        "colab": {
          "base_uri": "https://localhost:8080/"
        },
        "outputId": "042c3154-8f8d-4b0a-8085-0854fa40468b"
      },
      "execution_count": 1,
      "outputs": [
        {
          "output_type": "stream",
          "name": "stdout",
          "text": [
            "Downloading http://yann.lecun.com/exdb/mnist/train-images-idx3-ubyte.gz\n",
            "Downloading http://yann.lecun.com/exdb/mnist/train-images-idx3-ubyte.gz to ../data/MNIST/raw/train-images-idx3-ubyte.gz\n"
          ]
        },
        {
          "output_type": "stream",
          "name": "stderr",
          "text": [
            "100%|██████████| 9912422/9912422 [00:00<00:00, 43311777.21it/s]\n"
          ]
        },
        {
          "output_type": "stream",
          "name": "stdout",
          "text": [
            "Extracting ../data/MNIST/raw/train-images-idx3-ubyte.gz to ../data/MNIST/raw\n",
            "\n",
            "Downloading http://yann.lecun.com/exdb/mnist/train-labels-idx1-ubyte.gz\n",
            "Downloading http://yann.lecun.com/exdb/mnist/train-labels-idx1-ubyte.gz to ../data/MNIST/raw/train-labels-idx1-ubyte.gz\n"
          ]
        },
        {
          "output_type": "stream",
          "name": "stderr",
          "text": [
            "100%|██████████| 28881/28881 [00:00<00:00, 30535844.17it/s]"
          ]
        },
        {
          "output_type": "stream",
          "name": "stdout",
          "text": [
            "Extracting ../data/MNIST/raw/train-labels-idx1-ubyte.gz to ../data/MNIST/raw\n",
            "\n",
            "Downloading http://yann.lecun.com/exdb/mnist/t10k-images-idx3-ubyte.gz\n"
          ]
        },
        {
          "output_type": "stream",
          "name": "stderr",
          "text": [
            "\n"
          ]
        },
        {
          "output_type": "stream",
          "name": "stdout",
          "text": [
            "Downloading http://yann.lecun.com/exdb/mnist/t10k-images-idx3-ubyte.gz to ../data/MNIST/raw/t10k-images-idx3-ubyte.gz\n"
          ]
        },
        {
          "output_type": "stream",
          "name": "stderr",
          "text": [
            "100%|██████████| 1648877/1648877 [00:00<00:00, 10646499.26it/s]\n"
          ]
        },
        {
          "output_type": "stream",
          "name": "stdout",
          "text": [
            "Extracting ../data/MNIST/raw/t10k-images-idx3-ubyte.gz to ../data/MNIST/raw\n",
            "\n",
            "Downloading http://yann.lecun.com/exdb/mnist/t10k-labels-idx1-ubyte.gz\n",
            "Downloading http://yann.lecun.com/exdb/mnist/t10k-labels-idx1-ubyte.gz to ../data/MNIST/raw/t10k-labels-idx1-ubyte.gz\n"
          ]
        },
        {
          "output_type": "stream",
          "name": "stderr",
          "text": [
            "100%|██████████| 4542/4542 [00:00<00:00, 3845484.21it/s]"
          ]
        },
        {
          "output_type": "stream",
          "name": "stdout",
          "text": [
            "Extracting ../data/MNIST/raw/t10k-labels-idx1-ubyte.gz to ../data/MNIST/raw\n",
            "\n"
          ]
        },
        {
          "output_type": "stream",
          "name": "stderr",
          "text": [
            "\n"
          ]
        }
      ]
    },
    {
      "cell_type": "markdown",
      "source": [
        "1. (30’) build a 10-class softmax classifier on the images. Train the classifier via storchastic gradient\n",
        "descent, and report test accuracy."
      ],
      "metadata": {
        "id": "iOvHBuadTcha"
      }
    },
    {
      "cell_type": "code",
      "source": [
        "# Step 2: Build the Classifier\n",
        "class Net(nn.Module):\n",
        "    def __init__(self):\n",
        "        super(Net, self).__init__()\n",
        "        self.fc1 = nn.Linear(28*28, 512)\n",
        "        self.fc2 = nn.Linear(512, 10)\n",
        "\n",
        "    def forward(self, x):\n",
        "        x = torch.flatten(x, 1)\n",
        "        x = torch.relu(self.fc1(x))\n",
        "        x = self.fc2(x)\n",
        "        return x\n",
        "\n",
        "model = Net()\n",
        "\n",
        "# Train the Classifier\n",
        "criterion = nn.CrossEntropyLoss()\n",
        "optimizer = optim.SGD(model.parameters(), lr=0.01, momentum=0.9)\n",
        "\n",
        "def train_model(model, train_loader, criterion, optimizer, epochs=10):\n",
        "    model.train()\n",
        "    for epoch in range(epochs):\n",
        "        running_loss = 0.0\n",
        "        for images, labels in train_loader:\n",
        "            optimizer.zero_grad()\n",
        "            outputs = model(images)\n",
        "            loss = criterion(outputs, labels)\n",
        "            loss.backward()\n",
        "            optimizer.step()\n",
        "            running_loss += loss.item()\n",
        "        print(f\"Epoch {epoch+1}, Loss: {running_loss/len(train_loader)}\")\n",
        "\n",
        "train_model(model, train_loader, criterion, optimizer)\n",
        "\n",
        "# Evaluate the Classifier\n",
        "def evaluate_model(model, test_loader):\n",
        "    model.eval()\n",
        "    correct = 0\n",
        "    total = 0\n",
        "    with torch.no_grad():\n",
        "        for images, labels in test_loader:\n",
        "            outputs = model(images)\n",
        "            _, predicted = torch.max(outputs.data, 1)\n",
        "            total += labels.size(0)\n",
        "            correct += (predicted == labels).sum().item()\n",
        "    print(f\"Accuracy on test set: {100 * correct / total}%\")\n",
        "\n",
        "evaluate_model(model, test_loader)"
      ],
      "metadata": {
        "colab": {
          "base_uri": "https://localhost:8080/"
        },
        "id": "ck2IukfO3GwX",
        "outputId": "0f40cca1-4ad0-417b-daa8-cf1bc1f263a6"
      },
      "execution_count": 2,
      "outputs": [
        {
          "output_type": "stream",
          "name": "stdout",
          "text": [
            "Epoch 1, Loss: 0.3768849743868384\n",
            "Epoch 2, Loss: 0.1794211362057444\n",
            "Epoch 3, Loss: 0.12779515269129058\n",
            "Epoch 4, Loss: 0.09927766081993766\n",
            "Epoch 5, Loss: 0.08347399573287238\n",
            "Epoch 6, Loss: 0.069737104135101\n",
            "Epoch 7, Loss: 0.06053912126378197\n",
            "Epoch 8, Loss: 0.05252183922935668\n",
            "Epoch 9, Loss: 0.045004833255634855\n",
            "Epoch 10, Loss: 0.04052921248834504\n",
            "Accuracy on test set: 97.5%\n"
          ]
        }
      ]
    },
    {
      "cell_type": "markdown",
      "source": [
        "2. (40’) Insert one hidden layer with 1024 hidden units before the softmax classifier. And use ReLU as\n",
        "the activation function at the hidden layer. Train and report test accuracy"
      ],
      "metadata": {
        "id": "1v2OAImgTeCW"
      }
    },
    {
      "cell_type": "code",
      "source": [
        "# Update the Classifier with a hidden layer of 1024 units\n",
        "class Net(nn.Module):\n",
        "    def __init__(self):\n",
        "        super(Net, self).__init__()\n",
        "        self.fc1 = nn.Linear(28*28, 1024)\n",
        "        self.fc2 = nn.Linear(1024, 10)\n",
        "\n",
        "    def forward(self, x):\n",
        "        x = torch.flatten(x, 1)\n",
        "        x = torch.relu(self.fc1(x))\n",
        "        x = self.fc2(x)\n",
        "        return x\n",
        "\n",
        "model = Net()\n",
        "\n",
        "# Criterion and optimizer\n",
        "criterion = nn.CrossEntropyLoss()\n",
        "optimizer = optim.SGD(model.parameters(), lr=0.01, momentum=0.9)\n",
        "\n",
        "# Train the model\n",
        "def train_model(model, train_loader, criterion, optimizer, epochs=10):\n",
        "    model.train()\n",
        "    for epoch in range(epochs):\n",
        "        running_loss = 0.0\n",
        "        for images, labels in train_loader:\n",
        "            optimizer.zero_grad()\n",
        "            outputs = model(images)\n",
        "            loss = criterion(outputs, labels)\n",
        "            loss.backward()\n",
        "            optimizer.step()\n",
        "            running_loss += loss.item()\n",
        "        print(f\"Epoch {epoch+1}, Loss: {running_loss/len(train_loader)}\")\n",
        "\n",
        "train_model(model, train_loader, criterion, optimizer)\n",
        "\n",
        "# Evaluate the model\n",
        "def evaluate_model(model, test_loader):\n",
        "    model.eval()\n",
        "    correct = 0\n",
        "    total = 0\n",
        "    with torch.no_grad():\n",
        "        for images, labels in test_loader:\n",
        "            outputs = model(images)\n",
        "            _, predicted = torch.max(outputs.data, 1)\n",
        "            total += labels.size(0)\n",
        "            correct += (predicted == labels).sum().item()\n",
        "    print(f\"Accuracy on test set: {100 * correct / total}%\")\n",
        "\n",
        "evaluate_model(model, test_loader)\n"
      ],
      "metadata": {
        "id": "yIcUHXAoGi_6",
        "colab": {
          "base_uri": "https://localhost:8080/"
        },
        "outputId": "f5eca50d-5987-4512-f45e-bfd18a5d743a"
      },
      "execution_count": 3,
      "outputs": [
        {
          "output_type": "stream",
          "name": "stdout",
          "text": [
            "Epoch 1, Loss: 0.3636392440904132\n",
            "Epoch 2, Loss: 0.1705639328035857\n",
            "Epoch 3, Loss: 0.12332437179334786\n",
            "Epoch 4, Loss: 0.09416401952557514\n",
            "Epoch 5, Loss: 0.07795981683618272\n",
            "Epoch 6, Loss: 0.06573279220592992\n",
            "Epoch 7, Loss: 0.05367608157122303\n",
            "Epoch 8, Loss: 0.04670961163944\n",
            "Epoch 9, Loss: 0.04004100139599408\n",
            "Epoch 10, Loss: 0.03333943870717712\n",
            "Accuracy on test set: 97.94%\n"
          ]
        }
      ]
    },
    {
      "cell_type": "markdown",
      "source": [
        "3. Now, instead of inserting one hidden layer, we insert L(L ≥ 2) hidden layers, each with equal number\n",
        "of hidden units. We keep the total learnable parameters at 814, 090. Derive the number of hidden\n",
        "units per layer. Express it as a function of L"
      ],
      "metadata": {
        "id": "Q1YbT-r5TjFt"
      }
    },
    {
      "cell_type": "code",
      "source": [
        "from sympy import symbols, solve\n",
        "\n",
        "H, L = symbols('H L')\n",
        "equation = H**2 * (L - 1) + H * (794 + L) + 10 - 814090\n",
        "\n",
        "# Solve for H in terms of L\n",
        "solution = solve(equation, H)\n",
        "solution\n"
      ],
      "metadata": {
        "colab": {
          "base_uri": "https://localhost:8080/"
        },
        "id": "Emb-Zg643oOv",
        "outputId": "df4a96bb-c950-4007-9a52-3ff96e3a90ca"
      },
      "execution_count": 4,
      "outputs": [
        {
          "output_type": "execute_result",
          "data": {
            "text/plain": [
              "[(-L - sqrt(L**2 + 3257908*L - 2625884) - 794)/(2*(L - 1)),\n",
              " (-L + sqrt(L**2 + 3257908*L - 2625884) - 794)/(2*(L - 1))]"
            ]
          },
          "metadata": {},
          "execution_count": 4
        }
      ]
    },
    {
      "cell_type": "markdown",
      "source": [
        "4. (bonus 50’) Train a MLP model with architecture defined in problem 3, where L = 2, 3, . . . , 8. Get\n",
        "test accuracy for each L. Note that in problem 2, we already get the accuracy when L = 1. Plot the\n",
        "accuracy against L, where L = 1, 2, 3, . . . , 8"
      ],
      "metadata": {
        "id": "UKoTwg-HTrDA"
      }
    },
    {
      "cell_type": "code",
      "source": [
        "import matplotlib.pyplot as plt\n",
        "from math import sqrt\n",
        "\n",
        "# Function to calculate the number of hidden units\n",
        "def calculate_hidden_units(L):\n",
        "    if L == 1:\n",
        "        return 814\n",
        "    return int((-L + sqrt(L**2 + 3257908*L - 2625884) - 794) / (2 * (L - 1)))\n",
        "\n",
        "# Define the MLP model\n",
        "def create_mlp_model(L, H):\n",
        "    layers = [nn.Linear(28*28, H), nn.ReLU()]\n",
        "    for _ in range(L - 1):\n",
        "        layers.append(nn.Linear(H, H))\n",
        "        layers.append(nn.ReLU())\n",
        "    layers.append(nn.Linear(H, 10))\n",
        "    return nn.Sequential(*layers)\n",
        "\n",
        "# Function to train and evaluate the model\n",
        "def train_evaluate_mlp(L, H, train_loader, test_loader):\n",
        "    model = create_mlp_model(L, H)\n",
        "    criterion = nn.CrossEntropyLoss()\n",
        "    optimizer = optim.SGD(model.parameters(), lr=0.01, momentum=0.9)\n",
        "    epoches = 5\n",
        "\n",
        "    for epoch in range(epoches):\n",
        "        for data, target in train_loader:\n",
        "            data = data.view(data.size(0), -1)\n",
        "            optimizer.zero_grad()\n",
        "            output = model(data)\n",
        "            loss = criterion(output, target)\n",
        "            loss.backward()\n",
        "            optimizer.step()\n",
        "\n",
        "    # Evaluate the model\n",
        "    correct = 0\n",
        "    total = 0\n",
        "    with torch.no_grad():\n",
        "        for data, target in test_loader:\n",
        "            data = data.view(data.size(0), -1)\n",
        "            outputs = model(data)\n",
        "            _, predicted = torch.max(outputs.data, 1)\n",
        "            total += target.size(0)\n",
        "            correct += (predicted == target).sum().item()\n",
        "\n",
        "    accuracy = 100 * correct / total\n",
        "    return accuracy\n",
        "\n",
        "\n",
        "# Main loop for different values of L\n",
        "accuracies = []\n",
        "for L in range(1, 9):\n",
        "    H = calculate_hidden_units(L)\n",
        "    accuracy = train_evaluate_mlp(L, H, train_loader, test_loader)\n",
        "    accuracies.append(accuracy)\n",
        "    print(f'L = {L}, Hidden Units = {H}, Accuracy = {accuracy}%')\n",
        "\n",
        "# Plotting\n",
        "plt.plot(range(1, 9), accuracies)\n",
        "plt.xlabel('Number of Hidden Layers (L)')\n",
        "plt.ylabel('Test Accuracy')\n",
        "plt.title('Test Accuracy vs. Number of Hidden Layers')\n",
        "plt.show()\n"
      ],
      "metadata": {
        "colab": {
          "base_uri": "https://localhost:8080/",
          "height": 611
        },
        "id": "GHQ7KsgX6qFo",
        "outputId": "02e3c510-82e8-4367-aa31-ccb297ca070f"
      },
      "execution_count": 5,
      "outputs": [
        {
          "output_type": "stream",
          "name": "stdout",
          "text": [
            "L = 1, Hidden Units = 814, Accuracy = 97.18%\n",
            "L = 2, Hidden Units = 588, Accuracy = 97.26%\n",
            "L = 3, Hidden Units = 469, Accuracy = 97.1%\n",
            "L = 4, Hidden Units = 404, Accuracy = 97.04%\n",
            "L = 5, Hidden Units = 362, Accuracy = 97.21%\n",
            "L = 6, Hidden Units = 331, Accuracy = 95.88%\n",
            "L = 7, Hidden Units = 307, Accuracy = 96.13%\n",
            "L = 8, Hidden Units = 288, Accuracy = 95.53%\n"
          ]
        },
        {
          "output_type": "display_data",
          "data": {
            "text/plain": [
              "<Figure size 640x480 with 1 Axes>"
            ],
            "image/png": "[encoded data removed]"
          },
          "metadata": {}
        }
      ]
    }
  ]
}